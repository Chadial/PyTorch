{
 "cells": [
  {
   "cell_type": "code",
   "execution_count": 1,
   "metadata": {},
   "outputs": [],
   "source": [
    "import numpy as np \n",
    "import pandas as pd \n",
    "\n",
    "import matplotlib.pyplot as plt\n",
    "\n",
    "from torch import nn, optim\n",
    "import torch.nn.functional as F\n",
    "import torch.utils.data as data\n",
    "import torch\n",
    "from torch.autograd import Variable"
   ]
  },
  {
   "cell_type": "code",
   "execution_count": 2,
   "metadata": {},
   "outputs": [
    {
     "data": {
      "image/png": "[encoded data removed]",
      "text/plain": [
       "<Figure size 432x288 with 1 Axes>"
      ]
     },
     "metadata": {
      "needs_background": "light"
     },
     "output_type": "display_data"
    }
   ],
   "source": [
    "df = pd.read_csv(\"train.csv\")\n",
    "plt.imshow(np.reshape(df.values[0][1:],(28,28)), cmap=plt.get_cmap('gray'))\n",
    "plt.show()"
   ]
  },
  {
   "cell_type": "code",
   "execution_count": 3,
   "metadata": {},
   "outputs": [],
   "source": [
    "train = pd.read_csv(\"train.csv\")\n",
    "train_labels = train['label'].values\n",
    "train = train.drop(\"label\",axis=1).values.reshape(len(train),1,28,28)"
   ]
  },
  {
   "cell_type": "code",
   "execution_count": 4,
   "metadata": {},
   "outputs": [],
   "source": [
    "X = torch.Tensor(train.astype(float))\n",
    "y = torch.Tensor(train_labels).long()"
   ]
  },
  {
   "cell_type": "code",
   "execution_count": 6,
   "metadata": {},
   "outputs": [],
   "source": [
    "class MNISTClassifier(nn.Module):\n",
    "    def __init__(self):\n",
    "        super().__init__()\n",
    "        self.fc1 = nn.Linear(784, 392)\n",
    "        self.fc2 = nn.Linear(392, 196)\n",
    "        self.fc3 = nn.Linear(196, 98)\n",
    "        self.fc4 = nn.Linear(98, 10)\n",
    "        \n",
    "        self.dropout = nn.Dropout(p=0.2)\n",
    "        \n",
    "    def forward(self, x):\n",
    "        x = x.view(x.shape[0], -1)\n",
    "        x = self.dropout(F.relu(self.fc1(x)))\n",
    "        x = self.dropout(F.relu(self.fc2(x)))\n",
    "        x = self.dropout(F.relu(self.fc3(x)))\n",
    "        x = F.log_softmax(self.fc4(x), dim=1)\n",
    "        \n",
    "        return x"
   ]
  },
  {
   "cell_type": "code",
   "execution_count": 7,
   "metadata": {},
   "outputs": [],
   "source": [
    "model = MNISTClassifier()\n",
    "loss_function = nn.NLLLoss()\n",
    "opt = optim.Adam(model.parameters(), lr=0.001)"
   ]
  },
  {
   "cell_type": "code",
   "execution_count": 28,
   "metadata": {},
   "outputs": [
    {
     "name": "stdout",
     "output_type": "stream",
     "text": [
      "Epoch [1/50] Loss: 0.0016\n",
      "Epoch [2/50] Loss: 0.0021\n",
      "Epoch [3/50] Loss: 0.0025\n",
      "Epoch [4/50] Loss: 0.0021\n",
      "Epoch [5/50] Loss: 0.0016\n",
      "Epoch [6/50] Loss: 0.0009\n",
      "Epoch [7/50] Loss: 0.0012\n",
      "Epoch [8/50] Loss: 0.0019\n",
      "Epoch [9/50] Loss: 0.0017\n",
      "Epoch [10/50] Loss: 0.0033\n",
      "Epoch [11/50] Loss: 0.0024\n",
      "Epoch [12/50] Loss: 0.0010\n",
      "Epoch [13/50] Loss: 0.0010\n",
      "Epoch [14/50] Loss: 0.0014\n",
      "Epoch [15/50] Loss: 0.0014\n",
      "Epoch [16/50] Loss: 0.0019\n",
      "Epoch [17/50] Loss: 0.0009\n",
      "Epoch [18/50] Loss: 0.0008\n",
      "Epoch [19/50] Loss: 0.0010\n",
      "Epoch [20/50] Loss: 0.0014\n",
      "Epoch [21/50] Loss: 0.0002\n",
      "Epoch [22/50] Loss: 0.0083\n",
      "Epoch [23/50] Loss: 0.0009\n",
      "Epoch [24/50] Loss: 0.0004\n",
      "Epoch [25/50] Loss: 0.0025\n",
      "Epoch [26/50] Loss: 0.0004\n",
      "Epoch [27/50] Loss: 0.0008\n",
      "Epoch [28/50] Loss: 0.0008\n",
      "Epoch [29/50] Loss: 0.0005\n",
      "Epoch [30/50] Loss: 0.0009\n",
      "Epoch [31/50] Loss: 0.0007\n",
      "Epoch [32/50] Loss: 0.0007\n",
      "Epoch [33/50] Loss: 0.0018\n",
      "Epoch [34/50] Loss: 0.0009\n",
      "Epoch [35/50] Loss: 0.0018\n",
      "Epoch [36/50] Loss: 0.0030\n",
      "Epoch [37/50] Loss: 0.0028\n",
      "Epoch [38/50] Loss: 0.0009\n",
      "Epoch [39/50] Loss: 0.0009\n",
      "Epoch [40/50] Loss: 0.0009\n",
      "Epoch [41/50] Loss: 0.0017\n",
      "Epoch [42/50] Loss: 0.0007\n",
      "Epoch [43/50] Loss: 0.0020\n",
      "Epoch [44/50] Loss: 0.0015\n",
      "Epoch [45/50] Loss: 0.0008\n",
      "Epoch [46/50] Loss: 0.0006\n",
      "Epoch [47/50] Loss: 0.0016\n",
      "Epoch [48/50] Loss: 0.0018\n",
      "Epoch [49/50] Loss: 0.0013\n",
      "Epoch [50/50] Loss: 0.0010\n"
     ]
    }
   ],
   "source": [
    "for epoch in range(50):\n",
    "    if epoch > 0:\n",
    "        prev_loss = loss.data.item()\n",
    "        \n",
    "    images = Variable(X)\n",
    "    labels = Variable(y)\n",
    "\n",
    "    opt.zero_grad()\n",
    "    outputs = model(images)\n",
    "\n",
    "    loss = loss_function(outputs, labels)\n",
    "    loss.backward()\n",
    "    opt.step()\n",
    "    curr_loss = loss.data.item()\n",
    "    \n",
    "    #if epoch > 0:\n",
    "    #    rate = (prev_loss/curr_loss-1)*100\n",
    "    #    print(\"{0:5.4} %\".format(rate))\n",
    "\n",
    "    print ('Epoch [%d/%d] Loss: %.4f' %(epoch+1, 50, loss.data.item()))"
   ]
  },
  {
   "cell_type": "code",
   "execution_count": 29,
   "metadata": {},
   "outputs": [],
   "source": [
    "test = pd.read_csv(\"test.csv\")\n",
    "test_labels = test['label'].values\n",
    "test = test.drop(\"label\",axis=1).values.reshape(len(test),1,28,28)\n",
    "\n",
    "X_test = torch.Tensor(test.astype(float))\n",
    "y_test = torch.Tensor(test_labels).long()"
   ]
  },
  {
   "cell_type": "code",
   "execution_count": 30,
   "metadata": {},
   "outputs": [],
   "source": [
    "preds = model(X_test)"
   ]
  },
  {
   "cell_type": "code",
   "execution_count": 31,
   "metadata": {},
   "outputs": [
    {
     "name": "stdout",
     "output_type": "stream",
     "text": [
      "tensor([-51.5376, -43.2835, -40.2419, -43.0558, -31.2870, -36.4331, -44.9220,\n",
      "        -28.6579, -38.9589,   0.0000], grad_fn=<SelectBackward>)\n"
     ]
    }
   ],
   "source": [
    "print(preds[0])"
   ]
  },
  {
   "cell_type": "code",
   "execution_count": 32,
   "metadata": {},
   "outputs": [
    {
     "data": {
      "text/html": [
       "<div>\n",
       "<style scoped>\n",
       "    .dataframe tbody tr th:only-of-type {\n",
       "        vertical-align: middle;\n",
       "    }\n",
       "\n",
       "    .dataframe tbody tr th {\n",
       "        vertical-align: top;\n",
       "    }\n",
       "\n",
       "    .dataframe thead th {\n",
       "        text-align: right;\n",
       "    }\n",
       "</style>\n",
       "<table border=\"1\" class=\"dataframe\">\n",
       "  <thead>\n",
       "    <tr style=\"text-align: right;\">\n",
       "      <th></th>\n",
       "      <th>Predicted Value</th>\n",
       "      <th>True Value</th>\n",
       "    </tr>\n",
       "  </thead>\n",
       "  <tbody>\n",
       "    <tr>\n",
       "      <td>0</td>\n",
       "      <td>9</td>\n",
       "      <td>9</td>\n",
       "    </tr>\n",
       "    <tr>\n",
       "      <td>1</td>\n",
       "      <td>8</td>\n",
       "      <td>5</td>\n",
       "    </tr>\n",
       "    <tr>\n",
       "      <td>2</td>\n",
       "      <td>2</td>\n",
       "      <td>2</td>\n",
       "    </tr>\n",
       "    <tr>\n",
       "      <td>3</td>\n",
       "      <td>4</td>\n",
       "      <td>4</td>\n",
       "    </tr>\n",
       "    <tr>\n",
       "      <td>4</td>\n",
       "      <td>1</td>\n",
       "      <td>1</td>\n",
       "    </tr>\n",
       "  </tbody>\n",
       "</table>\n",
       "</div>"
      ],
      "text/plain": [
       "   Predicted Value  True Value\n",
       "0                9           9\n",
       "1                8           5\n",
       "2                2           2\n",
       "3                4           4\n",
       "4                1           1"
      ]
     },
     "metadata": {},
     "output_type": "display_data"
    }
   ],
   "source": [
    "_, predictionlabel = torch.max(preds.data, 1)\n",
    "predictionlabel = predictionlabel.tolist()\n",
    "\n",
    "predictionlabel = pd.Series(predictionlabel)\n",
    "test_labels = pd.Series(test_labels)\n",
    "\n",
    "pred_table = pd.concat([predictionlabel, test_labels], axis=1)\n",
    "pred_table.columns =['Predicted Value', 'True Value']\n",
    "\n",
    "display(pred_table.head())"
   ]
  },
  {
   "cell_type": "code",
   "execution_count": 33,
   "metadata": {},
   "outputs": [
    {
     "name": "stdout",
     "output_type": "stream",
     "text": [
      "88.5\n"
     ]
    }
   ],
   "source": [
    "preds = len(predictionlabel)\n",
    "correct = len([1 for x,y in zip(predictionlabel, test_labels) if x==y])\n",
    "print((correct/preds)*100)"
   ]
  }
 ],
 "metadata": {
  "kernelspec": {
   "display_name": "Python 3",
   "language": "python",
   "name": "python3"
  },
  "language_info": {
   "codemirror_mode": {
    "name": "ipython",
    "version": 3
   },
   "file_extension": ".py",
   "mimetype": "text/x-python",
   "name": "python",
   "nbconvert_exporter": "python",
   "pygments_lexer": "ipython3",
   "version": "3.7.4"
  }
 },
 "nbformat": 4,
 "nbformat_minor": 2
}
